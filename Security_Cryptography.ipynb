{
 "cells": [
  {
   "cell_type": "code",
   "execution_count": 7,
   "id": "f5c447ad",
   "metadata": {},
   "outputs": [
    {
     "name": "stdout",
     "output_type": "stream",
     "text": [
      "Enter Your Text Between Quotation Marks\"fbooatlsjwwwps\"\n",
      "dobbisafreeelf\n"
     ]
    }
   ],
   "source": [
    "cipher_text=eval(input(\"Enter Your Text Between Quotation Marks\"))\n",
    "#cipher_text=\"fbooatlsjwwwps\"\n",
    "plain_alpha= \"abcdefghijklmnopqrstuvwxyz\"\n",
    "cipher_alpha= \"lorfwsevamcpndbqgjtyiuxhzk\"\n",
    "plain_text=\"\"\n",
    "i=0\n",
    "while(i < len(cipher_text)):\n",
    "    j = 0\n",
    "#for i in cipher_text:\n",
    "    cindex=0\n",
    "    while(j < len(cipher_alpha)):\n",
    "    #for j in cipher_alpha:\n",
    "        if (cipher_text[i]==cipher_alpha[j]):\n",
    "            cindex = j\n",
    "            plain_text+=(plain_alpha[cindex])\n",
    "        j+=1\n",
    "    i+=1\n",
    "print(plain_text) "
   ]
  },
  {
   "cell_type": "code",
   "execution_count": null,
   "id": "59722bb1",
   "metadata": {},
   "outputs": [],
   "source": []
  }
 ],
 "metadata": {
  "kernelspec": {
   "display_name": "Python 3",
   "language": "python",
   "name": "python3"
  },
  "language_info": {
   "codemirror_mode": {
    "name": "ipython",
    "version": 3
   },
   "file_extension": ".py",
   "mimetype": "text/x-python",
   "name": "python",
   "nbconvert_exporter": "python",
   "pygments_lexer": "ipython3",
   "version": "3.8.8"
  }
 },
 "nbformat": 4,
 "nbformat_minor": 5
}
